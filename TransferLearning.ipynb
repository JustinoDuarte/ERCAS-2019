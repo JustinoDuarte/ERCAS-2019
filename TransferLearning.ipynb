{
  "nbformat": 4,
  "nbformat_minor": 0,
  "metadata": {
    "colab": {
      "name": "TransferLearning.ipynb",
      "provenance": [],
      "collapsed_sections": []
    },
    "kernelspec": {
      "name": "python3",
      "display_name": "Python 3"
    },
    "accelerator": "GPU"
  },
  "cells": [
    {
      "cell_type": "markdown",
      "metadata": {
        "id": "pP2_XqlstNjl",
        "colab_type": "text"
      },
      "source": [
        "Montar o Google Drive no sistema de arquivos"
      ]
    },
    {
      "cell_type": "code",
      "metadata": {
        "id": "REuwpZj8tAYi",
        "colab_type": "code",
        "outputId": "faabc605-f758-4ce8-f885-b3d5e816e86d",
        "colab": {
          "base_uri": "https://localhost:8080/",
          "height": 147
        }
      },
      "source": [
        "from google.colab import drive\n",
        "drive.mount('/gdrive/')\n",
        "\n",
        "# mudando o diretório atual\n",
        "%cd /gdrive/My Drive/ERCAS_2019"
      ]
    },
    {
      "cell_type": "markdown",
      "metadata": {
        "id": "vcTk57pZuM0l",
        "colab_type": "text"
      },
      "source": [
        "**Extração de características:**\n",
        "\n"
      ]
    },
    {
      "cell_type": "code",
      "metadata": {
        "id": "EUzHWDcZtxBo",
        "colab_type": "code",
        "colab": {}
      },
      "source": [
        "from keras.applications.vgg16 import VGG16, preprocess_input\n",
        "from keras.models import Model\n",
        "#from keras.backend import clear_session\n",
        "\n",
        "def vgg16_f_extractor(input_data, layer_name='fc2'):    \n",
        "\n",
        "    # CNN VGG-16 pré-treinada com os pesos da imagenet\n",
        "    vgg16_model = VGG16(weights='imagenet', include_top=True)\n",
        "\n",
        "    # modelo 'cortado' antes da camada de classificação\n",
        "    ext_model = Model(inputs=vgg16_model.input,\n",
        "                      outputs=vgg16_model.get_layer(layer_name).output)  # exclusão da última camada da VGG-16\n",
        "\n",
        "    input_data = preprocess_input(input_data)\n",
        "\n",
        "    # o método predict() de ext_model NÃO dá a classificação como saída, e sim o vetor de atributos de saída da camada layer_name\n",
        "    features = ext_model.predict(input_data,verbose=1)\n",
        "    #clear_session()\n",
        "    return features"
      ],
      "execution_count": 0,
      "outputs": []
    },
    {
      "cell_type": "code",
      "metadata": {
        "id": "7KT6YU6E8OVd",
        "colab_type": "code",
        "colab": {}
      },
      "source": [
        "# pequeno teste da extração\n",
        "import numpy as np\n",
        "data=np.zeros((10,224,224,3))\n",
        "features=vgg16_f_extractor(data)\n",
        "\n",
        "print(data.shape)\n",
        "print(features.shape)"
      ],
      "execution_count": 0,
      "outputs": []
    },
    {
      "cell_type": "markdown",
      "metadata": {
        "id": "xRQunfnqt-rU",
        "colab_type": "text"
      },
      "source": [
        "Teste de feature extraction com base de imagens em disco"
      ]
    },
    {
      "cell_type": "code",
      "metadata": {
        "id": "_lRMOvP0rdZM",
        "colab_type": "code",
        "colab": {}
      },
      "source": [
        "from sklearn.neighbors import KNeighborsClassifier as KNN\n",
        "from sklearn.datasets import load_files\n",
        "from skimage.io import imread\n",
        "from skimage.transform import resize\n",
        "\n",
        "train_dir='./catdog_small/training_set/'\n",
        "test_dir ='./catdog_small/test_set/'\n",
        "\n",
        "# função que lê as imagens de um diretório com classes nos subdiretórios\n",
        "def load_images(folder,shuffle=True,shape=(224,224)):\n",
        "    data=load_files(folder,load_content=False, shuffle=shuffle)\n",
        "    fnames,labels = data['filenames'],data['target']\n",
        "    x=[]\n",
        "    for f in fnames:\n",
        "        print(len(x),'\\r')\n",
        "        img=imread(f)\n",
        "        x.append(resize(img,output_shape=shape))\n",
        "    return np.array(x),labels\n",
        "\n",
        "x_train_imgs,y_train=load_images(train_dir)\n",
        "x_test_imgs,y_test=load_images(test_dir)\n",
        "\n",
        "#extração de características com base nas imagens\n",
        "x_train=vgg16_f_extractor(x_train_imgs)\n",
        "x_test=vgg16_f_extractor(x_test_imgs)\n",
        "\n",
        "print(x_test.shape,y_test.shape)\n",
        "\n",
        "knn_classifier=KNN(n_neighbors=15)\n",
        "knn_classifier.fit(x_train,y_train)\n",
        "knn_classifier.score(x_test,y_test)"
      ],
      "execution_count": 0,
      "outputs": []
    },
    {
      "cell_type": "markdown",
      "metadata": {
        "id": "KL3BvsiPPd4a",
        "colab_type": "text"
      },
      "source": [
        "**Ajuste Fino**"
      ]
    },
    {
      "cell_type": "code",
      "metadata": {
        "id": "iMQOc9EtPt4R",
        "colab_type": "code",
        "colab": {}
      },
      "source": [
        "from keras.applications.vgg16 import VGG16\n",
        "from keras.models import Model\n",
        "from keras.layers import Dense\n",
        "from keras.optimizers import SGD\n",
        "\n",
        "# CNN VGG-16 pré-treinada com os pesos da imagenet\n",
        "vgg16_model = VGG16(weights='imagenet', include_top=True)\n",
        "\n",
        "# guardar a penúltima camada (excluida a de classificação)\n",
        "fc2=vgg16_model.get_layer('fc2')\n",
        "\n",
        "#nova camada de classificação binária\n",
        "newlayer=Dense(2, activation='softmax')(fc2.output)\n",
        "\n",
        "#modelo com a nova camada de classificação\n",
        "ft_model = Model(inputs=vgg16_model.input, outputs=newlayer)\n",
        "\n",
        "#fixar (freeze) pesos de algumas camadas\n",
        "for l in ft_model.layers[:-2]:\n",
        "    l.trainable=False\n",
        "\n",
        "#compilação do modelo\n",
        "ft_model.compile(optimizer=SGD(lr=0.001,\n",
        "                               decay=1e-6,\n",
        "                               momentum=0.9,\n",
        "                               nesterov=True),\n",
        "                 loss='categorical_crossentropy',\n",
        "                 metrics=['accuracy'])\n",
        "\n",
        "ft_model.summary()"
      ],
      "execution_count": 0,
      "outputs": []
    },
    {
      "cell_type": "markdown",
      "metadata": {
        "id": "nmEYya4T41qW",
        "colab_type": "text"
      },
      "source": [
        "Treino e teste com base de dados em pasta local"
      ]
    },
    {
      "cell_type": "markdown",
      "metadata": {
        "id": "LyTm85NEG9f4",
        "colab_type": "text"
      },
      "source": [
        "**ImageDataGenerator.flow_from_directory** percorre a pasta de imagens sem alocá-la completamente na memória"
      ]
    },
    {
      "cell_type": "code",
      "metadata": {
        "id": "tfknPCHD5vVL",
        "colab_type": "code",
        "colab": {}
      },
      "source": [
        "from keras.preprocessing.image import ImageDataGenerator\n",
        "datagen=ImageDataGenerator()\n",
        "\n",
        "train_iterator=datagen.flow_from_directory(directory='./catdog_small/training_set/',\n",
        "                                           target_size=(224,224),\n",
        "                                           batch_size=32,\n",
        "                                           shuffle=True)\n",
        "test_iterator=datagen.flow_from_directory(directory='./catdog_small/test_set/',\n",
        "                                          target_size=(224,224),\n",
        "                                           batch_size=32,\n",
        "                                           shuffle=False)\n",
        "'''\n",
        "# demonstração -> verificação dos shapes\n",
        "for x,y in test_iterator:\n",
        "    print(x.shape, y.shape, y[0])\n",
        "'''\n",
        "\n",
        "train_metrics = ft_model.evaluate_generator(train_iterator,verbose=1)\n",
        "test_metrics = ft_model.evaluate_generator(test_iterator,verbose=1)\n",
        "print('Antes(train_set):',train_metrics)\n",
        "print('Antes(test_set): ',test_metrics)\n",
        "\n",
        "# treinamento (ajuste fino das camadas treináveis)\n",
        "ft_model.fit_generator(generator=train_iterator,\n",
        "                       validation_data=test_iterator,\n",
        "                       epochs=80,verbose=1)"
      ],
      "execution_count": 0,
      "outputs": []
    }
  ]
}
