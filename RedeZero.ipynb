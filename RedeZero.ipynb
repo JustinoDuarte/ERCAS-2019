{
  "nbformat": 4,
  "nbformat_minor": 0,
  "metadata": {
    "colab": {
      "name": "RedeZero.ipynb",
      "provenance": [],
      "private_outputs": true
    },
    "kernelspec": {
      "name": "python3",
      "display_name": "Python 3"
    },
    "accelerator": "GPU"
  },
  "cells": [
    {
      "cell_type": "markdown",
      "metadata": {
        "id": "9qPS1S_gfOR0",
        "colab_type": "text"
      },
      "source": [
        "Criação da Rede Genérica\n",
        "---\n"
      ]
    },
    {
      "cell_type": "code",
      "metadata": {
        "id": "aqwJjFXS3pun",
        "colab_type": "code",
        "colab": {}
      },
      "source": [
        "from keras import Model\n",
        "from keras.layers import Input\n",
        "from keras.layers.core import Dense, Flatten\n",
        "from keras.layers.convolutional import Conv2D, MaxPooling2D\n",
        "import keras.optimizers\n",
        "\n",
        "entrada = Input(shape=(28,28,1))\n",
        "\n",
        "# Definição da primeira camada convolucional com 64 filtros de tamanho 3x3.\n",
        "conv_1 = Conv2D(64, (3, 3), padding='same')(entrada)\n",
        "maxpool_1 = MaxPooling2D(pool_size=(2, 2),padding='same')(conv_1)\n",
        "\n",
        "# Definição da segunda camada convolucional com 32 filtros de tamanho 3x3.\n",
        "conv_2 = Conv2D(32, (3, 3), padding='same')(maxpool_1)\n",
        "maxpool_2 = MaxPooling2D(pool_size=(2, 2),padding='same')(conv_2)\n",
        "\n",
        "flat = Flatten()(maxpool_2)\n",
        "fc_1 = Dense(512, activation='relu')(flat)\n",
        "prediction = Dense(10, activation = 'softmax') (fc_1)\n",
        "\n",
        "CNN_Generica = Model(inputs= entrada, outputs=[prediction])\n",
        "\n",
        "\n",
        "CNN_Generica.compile(loss='categorical_crossentropy',\n",
        "                    optimizer=keras.optimizers.sgd(lr=0.01,decay=0.001),\n",
        "                    metrics=['accuracy'],)\n",
        "\n",
        "# Essa função apresenta um sumário de cada camada com sua respectiva saída e quantidade de parâmetros.\n",
        "CNN_Generica.summary()"
      ],
      "execution_count": 0,
      "outputs": []
    },
    {
      "cell_type": "markdown",
      "metadata": {
        "id": "ufr77WQJiTe_",
        "colab_type": "text"
      },
      "source": [
        "Caregar base de imagem"
      ]
    },
    {
      "cell_type": "code",
      "metadata": {
        "id": "8BPJfR6DiahS",
        "colab_type": "code",
        "colab": {}
      },
      "source": [
        "from keras.datasets import fashion_mnist\n",
        "import numpy as np\n",
        "from sklearn.preprocessing import LabelBinarizer\n",
        "import keras \n",
        "\n",
        "(x_train, y_train), (x_test, y_test) = fashion_mnist.load_data()\n",
        "\n",
        "x_train=np.expand_dims(x_train,3)/255\n",
        "x_test=np.expand_dims(x_test,3)/255\n",
        "\n",
        "y_train = keras.utils.to_categorical(y_train, 10)\n",
        "y_test = keras.utils.to_categorical(y_test, 10)\n",
        "\n",
        "\n",
        "#visualizar alguns exemplos da base\n",
        "import matplotlib.pyplot as plt\n",
        "n_imgs = 15\n",
        "for im in range(n_imgs):\n",
        "  plt.subplot(1,n_imgs,im+1)\n",
        "  plt.imshow(x_train[im,:,:,0],cmap='binary')\n",
        "  plt.axis('off')\n",
        "  \n",
        "print(y_train[:13])"
      ],
      "execution_count": 0,
      "outputs": []
    },
    {
      "cell_type": "markdown",
      "metadata": {
        "id": "DKsH8Wsi6OqY",
        "colab_type": "text"
      },
      "source": [
        "Treino e teste do Modelo"
      ]
    },
    {
      "cell_type": "code",
      "metadata": {
        "id": "PwHJKUPt6TUo",
        "colab_type": "code",
        "colab": {}
      },
      "source": [
        "# treinamento\n",
        "history = CNN_Generica.fit(x_train, y_train,\n",
        "                            batch_size=400,\n",
        "                            epochs=50,\n",
        "                            verbose=True,\n",
        "                            validation_data=(x_test, y_test))\n",
        "\n"
      ],
      "execution_count": 0,
      "outputs": []
    },
    {
      "cell_type": "code",
      "metadata": {
        "id": "nNyqwdVmimiQ",
        "colab_type": "code",
        "colab": {}
      },
      "source": [
        "# gráfico da acurácia nas épocas\n",
        "plt.plot(history.history['acc'])\n",
        "plt.plot(history.history['val_acc'])\n",
        "plt.ylabel('Accuracia')\n",
        "plt.xlabel('Epoca')\n",
        "plt.legend(['treino', 'validação'])\n",
        "plt.show()"
      ],
      "execution_count": 0,
      "outputs": []
    },
    {
      "cell_type": "code",
      "metadata": {
        "id": "YEJIpVXFp6TJ",
        "colab_type": "code",
        "colab": {}
      },
      "source": [
        "# utilização da rede para predizer uma entrada\n",
        "y_pred=CNN_Generica.predict(x_test[0:1])\n",
        "y_real=y_test[0:1]\n",
        "\n",
        "print('Classe real:\\n',y_real)\n",
        "print('Classe predita*:\\n',y_pred)\n",
        "\n",
        "print(np.argmax(y_real))\n",
        "print(np.argmax(y_pred))\n",
        "\n",
        "# avaliação em conjunto de dados\n",
        "metrics = CNN_Generica.evaluate(x_test, y_test, verbose=True)\n",
        "print('loss:',metrics[0],'\\n acc:',metrics[1])"
      ],
      "execution_count": 0,
      "outputs": []
    }
  ]
}
